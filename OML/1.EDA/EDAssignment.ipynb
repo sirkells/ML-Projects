{
  "cells": [
    {
      "metadata": {
        "_uuid": "570fb89bb4f7838b1d0fdff70b2935790e5dbdbe"
      },
      "cell_type": "markdown",
      "source": "<center>\n<img src=\"https://habrastorage.org/files/fd4/502/43d/fd450243dd604b81b9713213a247aa20.jpg\">\n## Open Machine Learning Course\n<center>Author: [Yury Kashnitsky](https://www.linkedin.com/in/festline/), Data Scientist @ Mail.Ru Group <br>\nTranslated and edited by [Sergey Isaev](https://www.linkedin.com/in/isvforall/), [Artem Trunov](https://www.linkedin.com/in/datamove/), [Anastasia Manokhina](https://www.linkedin.com/in/anastasiamanokhina/), and [Yuanyuan Pao](https://www.linkedin.com/in/yuanyuanpao/) <br>All content is distributed under the [Creative Commons CC BY-NC-SA 4.0](https://creativecommons.org/licenses/by-nc-sa/4.0/) license."
    },
    {
      "metadata": {
        "_uuid": "998fc5f76227ab1df9460a7b05c508304b14b3a6"
      },
      "cell_type": "markdown",
      "source": "# <center> Assignment #1 (demo)\n## <center>  Exploratory data analysis with Pandas\n"
    },
    {
      "metadata": {
        "_uuid": "89ef93231815456f4e0bc5dcc00b094aee800993"
      },
      "cell_type": "markdown",
      "source": "**In this task you should use Pandas to answer a few questions about the [Adult](https://archive.ics.uci.edu/ml/datasets/Adult) dataset. (You don't have to download the data – it's already here). Choose the answers in the [web-form](https://docs.google.com/forms/d/1uY7MpI2trKx6FLWZte0uVh3ULV4Cm_tDud0VDFGCOKg). This is a demo version of an assignment, so by submitting the form, you'll see a link to the solution .ipynb file.**"
    },
    {
      "metadata": {
        "_uuid": "c322301ac858c748f8f80e63cf6f734fc70dde30"
      },
      "cell_type": "markdown",
      "source": "Unique values of all features (for more information, please see the links above):\n- `age`: continuous.\n- `workclass`: Private, Self-emp-not-inc, Self-emp-inc, Federal-gov, Local-gov, State-gov, Without-pay, Never-worked.\n- `fnlwgt`: continuous.\n- `education`: Bachelors, Some-college, 11th, HS-grad, Prof-school, Assoc-acdm, Assoc-voc, 9th, 7th-8th, 12th, Masters, 1st-4th, 10th, Doctorate, 5th-6th, Preschool.\n- `education-num`: continuous.\n- `marital-status`: Married-civ-spouse, Divorced, Never-married, Separated, Widowed, Married-spouse-absent, Married-AF-spouse.\n- `occupation`: Tech-support, Craft-repair, Other-service, Sales, Exec-managerial, Prof-specialty, Handlers-cleaners, Machine-op-inspct, Adm-clerical, Farming-fishing, Transport-moving, Priv-house-serv, Protective-serv, Armed-Forces.\n- `relationship`: Wife, Own-child, Husband, Not-in-family, Other-relative, Unmarried.\n- `race`: White, Asian-Pac-Islander, Amer-Indian-Eskimo, Other, Black.\n- `sex`: Female, Male.\n- `capital-gain`: continuous.\n- `capital-loss`: continuous.\n- `hours-per-week`: continuous.\n- `native-country`: United-States, Cambodia, England, Puerto-Rico, Canada, Germany, Outlying-US(Guam-USVI-etc), India, Japan, Greece, South, China, Cuba, Iran, Honduras, Philippines, Italy, Poland, Jamaica, Vietnam, Mexico, Portugal, Ireland, France, Dominican-Republic, Laos, Ecuador, Taiwan, Haiti, Columbia, Hungary, Guatemala, Nicaragua, Scotland, Thailand, Yugoslavia, El-Salvador, Trinadad&Tobago, Peru, Hong, Holand-Netherlands.   \n- `salary`: >50K,<=50K"
    },
    {
      "metadata": {
        "collapsed": true,
        "trusted": true,
        "_uuid": "d3eb2411e23b7db11e4cbbb498a42752442a6f4c"
      },
      "cell_type": "code",
      "source": "# we don't like warnings\n# you can comment the following 2 lines if you'd like to\nimport warnings\nwarnings.filterwarnings('ignore')\nimport numpy as np\nimport pandas as pd\npd.set_option('display.max.columns', 100)\n# to draw pictures in jupyter notebook\n%matplotlib inline \nimport matplotlib.pyplot as plt\nimport seaborn as sns",
      "execution_count": 1,
      "outputs": []
    },
    {
      "metadata": {
        "trusted": true,
        "_uuid": "c5119d1b8151029b4ff57735c4279b795ae492a2"
      },
      "cell_type": "code",
      "source": "data = pd.read_csv('../input/adult.data.csv')\ndata.head()",
      "execution_count": 2,
      "outputs": [
        {
          "output_type": "execute_result",
          "execution_count": 2,
          "data": {
            "text/plain": "   age         workclass  fnlwgt  education  education-num  \\\n0   39         State-gov   77516  Bachelors             13   \n1   50  Self-emp-not-inc   83311  Bachelors             13   \n2   38           Private  215646    HS-grad              9   \n3   53           Private  234721       11th              7   \n4   28           Private  338409  Bachelors             13   \n\n       marital-status         occupation   relationship   race     sex  \\\n0       Never-married       Adm-clerical  Not-in-family  White    Male   \n1  Married-civ-spouse    Exec-managerial        Husband  White    Male   \n2            Divorced  Handlers-cleaners  Not-in-family  White    Male   \n3  Married-civ-spouse  Handlers-cleaners        Husband  Black    Male   \n4  Married-civ-spouse     Prof-specialty           Wife  Black  Female   \n\n   capital-gain  capital-loss  hours-per-week native-country salary  \n0          2174             0              40  United-States  <=50K  \n1             0             0              13  United-States  <=50K  \n2             0             0              40  United-States  <=50K  \n3             0             0              40  United-States  <=50K  \n4             0             0              40           Cuba  <=50K  ",
            "text/html": "<div>\n<style scoped>\n    .dataframe tbody tr th:only-of-type {\n        vertical-align: middle;\n    }\n\n    .dataframe tbody tr th {\n        vertical-align: top;\n    }\n\n    .dataframe thead th {\n        text-align: right;\n    }\n</style>\n<table border=\"1\" class=\"dataframe\">\n  <thead>\n    <tr style=\"text-align: right;\">\n      <th></th>\n      <th>age</th>\n      <th>workclass</th>\n      <th>fnlwgt</th>\n      <th>education</th>\n      <th>education-num</th>\n      <th>marital-status</th>\n      <th>occupation</th>\n      <th>relationship</th>\n      <th>race</th>\n      <th>sex</th>\n      <th>capital-gain</th>\n      <th>capital-loss</th>\n      <th>hours-per-week</th>\n      <th>native-country</th>\n      <th>salary</th>\n    </tr>\n  </thead>\n  <tbody>\n    <tr>\n      <th>0</th>\n      <td>39</td>\n      <td>State-gov</td>\n      <td>77516</td>\n      <td>Bachelors</td>\n      <td>13</td>\n      <td>Never-married</td>\n      <td>Adm-clerical</td>\n      <td>Not-in-family</td>\n      <td>White</td>\n      <td>Male</td>\n      <td>2174</td>\n      <td>0</td>\n      <td>40</td>\n      <td>United-States</td>\n      <td>&lt;=50K</td>\n    </tr>\n    <tr>\n      <th>1</th>\n      <td>50</td>\n      <td>Self-emp-not-inc</td>\n      <td>83311</td>\n      <td>Bachelors</td>\n      <td>13</td>\n      <td>Married-civ-spouse</td>\n      <td>Exec-managerial</td>\n      <td>Husband</td>\n      <td>White</td>\n      <td>Male</td>\n      <td>0</td>\n      <td>0</td>\n      <td>13</td>\n      <td>United-States</td>\n      <td>&lt;=50K</td>\n    </tr>\n    <tr>\n      <th>2</th>\n      <td>38</td>\n      <td>Private</td>\n      <td>215646</td>\n      <td>HS-grad</td>\n      <td>9</td>\n      <td>Divorced</td>\n      <td>Handlers-cleaners</td>\n      <td>Not-in-family</td>\n      <td>White</td>\n      <td>Male</td>\n      <td>0</td>\n      <td>0</td>\n      <td>40</td>\n      <td>United-States</td>\n      <td>&lt;=50K</td>\n    </tr>\n    <tr>\n      <th>3</th>\n      <td>53</td>\n      <td>Private</td>\n      <td>234721</td>\n      <td>11th</td>\n      <td>7</td>\n      <td>Married-civ-spouse</td>\n      <td>Handlers-cleaners</td>\n      <td>Husband</td>\n      <td>Black</td>\n      <td>Male</td>\n      <td>0</td>\n      <td>0</td>\n      <td>40</td>\n      <td>United-States</td>\n      <td>&lt;=50K</td>\n    </tr>\n    <tr>\n      <th>4</th>\n      <td>28</td>\n      <td>Private</td>\n      <td>338409</td>\n      <td>Bachelors</td>\n      <td>13</td>\n      <td>Married-civ-spouse</td>\n      <td>Prof-specialty</td>\n      <td>Wife</td>\n      <td>Black</td>\n      <td>Female</td>\n      <td>0</td>\n      <td>0</td>\n      <td>40</td>\n      <td>Cuba</td>\n      <td>&lt;=50K</td>\n    </tr>\n  </tbody>\n</table>\n</div>"
          },
          "metadata": {}
        }
      ]
    },
    {
      "metadata": {
        "_uuid": "6b19853f936853d40971b56f4d298ab55ee78cac"
      },
      "cell_type": "markdown",
      "source": "**1. How many men and women (*sex* feature) are represented in this dataset?** "
    },
    {
      "metadata": {
        "trusted": true,
        "_uuid": "d32cafcbe966dbdfa40c3017d16d6f8c96bfb3e2"
      },
      "cell_type": "code",
      "source": "data['sex'].value_counts()",
      "execution_count": 3,
      "outputs": [
        {
          "output_type": "execute_result",
          "execution_count": 3,
          "data": {
            "text/plain": "Male      21790\nFemale    10771\nName: sex, dtype: int64"
          },
          "metadata": {}
        }
      ]
    },
    {
      "metadata": {
        "_uuid": "4748793234a5d325ea60d13331ecf93e29774523"
      },
      "cell_type": "markdown",
      "source": "**2. What is the average age (*age* feature) of women?**"
    },
    {
      "metadata": {
        "trusted": true,
        "_uuid": "64f60d928855107d8980875656dcdf3587d91646"
      },
      "cell_type": "code",
      "source": "data[data['sex'] == 'Female']['age'].mean()",
      "execution_count": 4,
      "outputs": [
        {
          "output_type": "execute_result",
          "execution_count": 4,
          "data": {
            "text/plain": "36.85823043357163"
          },
          "metadata": {}
        }
      ]
    },
    {
      "metadata": {
        "_uuid": "80e87c421c348067e88769c64e554206c51727d1"
      },
      "cell_type": "markdown",
      "source": "**3. What is the percentage of German citizens (*native-country* feature)?**"
    },
    {
      "metadata": {
        "trusted": true,
        "_uuid": "ca9807509692638bd945671ed7d8b4a5ad1f3626"
      },
      "cell_type": "code",
      "source": "data['native-country'].value_counts(normalize=True)['Germany'] * 100",
      "execution_count": 5,
      "outputs": [
        {
          "output_type": "execute_result",
          "execution_count": 5,
          "data": {
            "text/plain": "0.42074874850281013"
          },
          "metadata": {}
        }
      ]
    },
    {
      "metadata": {
        "_uuid": "be9911cf525df4fca2c1d14b8720bc8a82f462e7"
      },
      "cell_type": "markdown",
      "source": "**4-5. What are the mean and standard deviation of age for those who earn more than 50K per year (*salary* feature) and those who earn less than 50K per year? **"
    },
    {
      "metadata": {
        "trusted": true,
        "_uuid": "97948f0115f949913d211627151b5605bcd204fd"
      },
      "cell_type": "code",
      "source": "data[data['salary'] == '>50K']['age'].mean()",
      "execution_count": 6,
      "outputs": [
        {
          "output_type": "execute_result",
          "execution_count": 6,
          "data": {
            "text/plain": "44.24984058155847"
          },
          "metadata": {}
        }
      ]
    },
    {
      "metadata": {
        "trusted": true,
        "_uuid": "bb1d1c89a403bcc1ccfd6b983e6d85860350198d"
      },
      "cell_type": "code",
      "source": "data[data['salary'] == '>50K']['age'].std()",
      "execution_count": 7,
      "outputs": [
        {
          "output_type": "execute_result",
          "execution_count": 7,
          "data": {
            "text/plain": "10.51902771985177"
          },
          "metadata": {}
        }
      ]
    },
    {
      "metadata": {
        "trusted": true,
        "_uuid": "50789f7b62649d73ee6c428655b0dd40ba8be704"
      },
      "cell_type": "code",
      "source": "data[data['salary'] == '<=50K']['age'].mean()",
      "execution_count": 8,
      "outputs": [
        {
          "output_type": "execute_result",
          "execution_count": 8,
          "data": {
            "text/plain": "36.78373786407767"
          },
          "metadata": {}
        }
      ]
    },
    {
      "metadata": {
        "trusted": true,
        "_uuid": "c2006df67da7b444c45098f98c028d8eaebee341"
      },
      "cell_type": "code",
      "source": "data[data['salary'] == '<=50K']['age'].std()",
      "execution_count": 9,
      "outputs": [
        {
          "output_type": "execute_result",
          "execution_count": 9,
          "data": {
            "text/plain": "14.020088490824813"
          },
          "metadata": {}
        }
      ]
    },
    {
      "metadata": {
        "_uuid": "180c3fe6f8b250b877c1d86866067b80acabdb64"
      },
      "cell_type": "markdown",
      "source": "**6. Is it true that people who earn more than 50K have at least high school education? (*education – Bachelors, Prof-school, Assoc-acdm, Assoc-voc, Masters* or *Doctorate* feature)**"
    },
    {
      "metadata": {
        "trusted": true,
        "_uuid": "58f38ebfa2b0e1418a6a1a680d0743697f9876a2",
        "collapsed": true
      },
      "cell_type": "code",
      "source": "(data[data['salary'] == '>50K']['education-num'] >= 9).value_counts(normalize=True) * 100",
      "execution_count": null,
      "outputs": []
    },
    {
      "metadata": {
        "_uuid": "87d6bc9ec1c230e66416ce94533ea250368009cc"
      },
      "cell_type": "markdown",
      "source": "**7. Display age statistics for each race (*race* feature) and each gender (*sex* feature). Use *groupby()* and *describe()*. Find the maximum age of men of *Amer-Indian-Eskimo* race.**"
    },
    {
      "metadata": {
        "trusted": true,
        "_uuid": "a4567b72200b583f7f2ee1583405d636c12169db",
        "collapsed": true
      },
      "cell_type": "code",
      "source": "data.head()",
      "execution_count": null,
      "outputs": []
    },
    {
      "metadata": {
        "trusted": true,
        "_uuid": "cc30a5ecea7a0c9f5ea9d9a485c2288fec46a061",
        "collapsed": true
      },
      "cell_type": "code",
      "source": "col_to_show1 = ['age']\ndata.groupby(['race'])[col_to_show1].describe()",
      "execution_count": null,
      "outputs": []
    },
    {
      "metadata": {
        "trusted": true,
        "_uuid": "5a2c47f5b7b542f3fd6f318b56e70e78759a2162",
        "collapsed": true
      },
      "cell_type": "code",
      "source": "col_to_show = ['age']\ndata.groupby(['sex'])[col_to_show].describe()",
      "execution_count": null,
      "outputs": []
    },
    {
      "metadata": {
        "trusted": true,
        "_uuid": "8e60326ee8a12f5ce25ca9a28962ad71e31e6b69"
      },
      "cell_type": "code",
      "source": "data[data['sex'] == 'Male'][data['race'] == 'Amer-Indian-Eskimo']['age'].max()",
      "execution_count": 10,
      "outputs": [
        {
          "output_type": "execute_result",
          "execution_count": 10,
          "data": {
            "text/plain": "82"
          },
          "metadata": {}
        }
      ]
    },
    {
      "metadata": {
        "_uuid": "19411d604b0d4337a4a048a2f0e898541f39ab76"
      },
      "cell_type": "markdown",
      "source": "**8. Among whom is the proportion of those who earn a lot (>50K) greater: married or single men (*marital-status* feature)? Consider as married those who have a *marital-status* starting with *Married* (Married-civ-spouse, Married-spouse-absent or Married-AF-spouse), the rest are considered bachelors.**"
    },
    {
      "metadata": {
        "trusted": true,
        "_uuid": "98f6594ac76d5dae535f120c5afcdc80b7c1eb77",
        "collapsed": true
      },
      "cell_type": "code",
      "source": "data[data['salary'] == '>50K'][data['sex'] == 'Male']['marital-status'].value_counts()",
      "execution_count": null,
      "outputs": []
    },
    {
      "metadata": {
        "_uuid": "125b9f4ce7739457cf4204fa96a93a766e03f0c4"
      },
      "cell_type": "markdown",
      "source": "All men who earn greater than 50K are married"
    },
    {
      "metadata": {
        "_uuid": "34f2076e7d331b95a23b990372809b709d2c8183"
      },
      "cell_type": "markdown",
      "source": "**9. What is the maximum number of hours a person works per week (*hours-per-week* feature)? How many people work such a number of hours, and what is the percentage of those who earn a lot (>50K) among them?**"
    },
    {
      "metadata": {
        "trusted": true,
        "_uuid": "d3d86891a5ccb9b3e0115a33012fe018d8e4f526"
      },
      "cell_type": "code",
      "source": "data['hours-per-week'].max()",
      "execution_count": 11,
      "outputs": [
        {
          "output_type": "execute_result",
          "execution_count": 11,
          "data": {
            "text/plain": "99"
          },
          "metadata": {}
        }
      ]
    },
    {
      "metadata": {
        "_uuid": "c527dc7c16a26dad81245e2b01f0a35924cd37e7"
      },
      "cell_type": "markdown",
      "source": "Max hours per week = 99"
    },
    {
      "metadata": {
        "trusted": true,
        "_uuid": "e8f6d5a058c08b233a7a48f048b9153f3c342532",
        "collapsed": true
      },
      "cell_type": "code",
      "source": "data[data['hours-per-week'] == 99].count()['hours-per-week']",
      "execution_count": null,
      "outputs": []
    },
    {
      "metadata": {
        "_uuid": "53c6a033a60943f9734b24f76153b759b5308a04"
      },
      "cell_type": "markdown",
      "source": "85 people work for 99 hrs per week"
    },
    {
      "metadata": {
        "trusted": true,
        "_uuid": "678584e3a0395367f9d252b79c753fee87a9e50a",
        "collapsed": true
      },
      "cell_type": "code",
      "source": "data[data['hours-per-week'] == 99]['salary'].value_counts(normalize=True) * 100",
      "execution_count": null,
      "outputs": []
    },
    {
      "metadata": {
        "trusted": true,
        "collapsed": true,
        "_uuid": "c27a9db7442175a6afad00e59c1877999cfcb434"
      },
      "cell_type": "code",
      "source": "29.4% of those who earn >50K work for 99hrs per week",
      "execution_count": null,
      "outputs": []
    },
    {
      "metadata": {
        "_uuid": "d539d4d137fac1c5ea25bc516188eb657d67e9b4"
      },
      "cell_type": "markdown",
      "source": "**10. Count the average time of work (*hours-per-week*) for those who earn a little and a lot (*salary*) for each country (*native-country*). What will these be for Japan?**"
    },
    {
      "metadata": {
        "trusted": true,
        "_uuid": "75a93411f1e3b519afcc27c026aaa0c67eb526e9"
      },
      "cell_type": "code",
      "source": "data[data['native-country'] == 'Japan'][data['salary'] == '>50K']['hours-per-week'].mean()",
      "execution_count": 23,
      "outputs": [
        {
          "output_type": "execute_result",
          "execution_count": 23,
          "data": {
            "text/plain": "47.958333333333336"
          },
          "metadata": {}
        }
      ]
    },
    {
      "metadata": {
        "trusted": true,
        "_uuid": "dd54a763a29cf5c1683a0f5ca4c923c1f54c006a"
      },
      "cell_type": "code",
      "source": "data[data['native-country'] == 'Japan'][data['salary'] == '<=50K']['hours-per-week'].mean()",
      "execution_count": 24,
      "outputs": [
        {
          "output_type": "execute_result",
          "execution_count": 24,
          "data": {
            "text/plain": "41.0"
          },
          "metadata": {}
        }
      ]
    }
  ],
  "metadata": {
    "anaconda-cloud": {},
    "kernelspec": {
      "display_name": "Python 3",
      "language": "python",
      "name": "python3"
    },
    "language_info": {
      "name": "python",
      "version": "3.6.6",
      "mimetype": "text/x-python",
      "codemirror_mode": {
        "name": "ipython",
        "version": 3
      },
      "pygments_lexer": "ipython3",
      "nbconvert_exporter": "python",
      "file_extension": ".py"
    }
  },
  "nbformat": 4,
  "nbformat_minor": 1
}