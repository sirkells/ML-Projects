{
 "cells": [
  {
   "cell_type": "markdown",
   "metadata": {
    "collapsed": true
   },
   "source": [
    "<h1 style=\"font-size:42px; text-align:center; margin-bottom:30px;\"><span style=\"color:SteelBlue\">Module 2:</span> Python Crash Course</h1>\n",
    "<hr>\n",
    "\n",
    "Welcome to the **Companion Workbook** for <span style=\"color:royalblue\">Module 2: Python Crash Course</span> (and for the <span style=\"color:royalblue\">Expanded Python Crash Course</span>)!\n",
    "\n",
    "After you read each lesson, come back here to practice any lesson code and complete the accompanying exercises.\n",
    "* You can insert \"scratch\" code cells using **Insert > Insert Cell Below/Above** in the toolbar.\n",
    "* Remember, to run a cell, you can click into it anywhere and press <code style=\"color:steelblue\">Shift + Enter</code>.\n",
    "* Use the table of contents below to find the lesson you're working on.\n",
    "* Any \"mission-critical\" lesson code required for the exercises (such as importing libraries or data files) is included as well.\n",
    "\n",
    "**Tip:** There are multiple ways to solve each exercise... these solutions are only one way!\n",
    "\n",
    "<br><hr id=\"toc\">\n",
    "\n",
    "### Table of Contents\n",
    "\n",
    "* [Lesson 1: Python Basics](#l1)\n",
    "* [Lesson 2: Data Structures](#l2)\n",
    "* [Lesson 3: Flow and Functions](#l3)\n",
    "* [Lesson 4: NumPy](#l4)\n",
    "* [Lesson 5: Pandas](#l5)\n",
    "\n",
    "<br><hr>"
   ]
  },
  {
   "cell_type": "markdown",
   "metadata": {},
   "source": [
    "## A few quick notes before we begin\n",
    "\n",
    "Before we do anything else, let's import the <code style=\"color:steelblue\">print()</code> function from the \"future\" to ensure our code is compatible with Python 3.\n",
    "* Remember, you can run code cells by clicking anywhere in the cell to highlight it, then pressing <code style=\"color:steelblue\">Shift + Enter</code> on your keyboard."
   ]
  },
  {
   "cell_type": "code",
   "execution_count": null,
   "metadata": {
    "collapsed": true
   },
   "outputs": [],
   "source": [
    "from __future__ import print_function  # Compatability with Python 3\n",
    "print('Print function ready to serve.')"
   ]
  },
  {
   "cell_type": "markdown",
   "metadata": {},
   "source": [
    "When running **multiple lines of code** in Jupyter Notebooks, only the last result is shown."
   ]
  },
  {
   "cell_type": "code",
   "execution_count": null,
   "metadata": {
    "collapsed": true
   },
   "outputs": [],
   "source": [
    "3 * 5  # Not shown\n",
    "16 / 4 # Shown"
   ]
  },
  {
   "cell_type": "markdown",
   "metadata": {},
   "source": [
    "But you can display each line by explicitly printing them with the <code style=\"color:steelblue\">print()</code> function."
   ]
  },
  {
   "cell_type": "code",
   "execution_count": null,
   "metadata": {
    "collapsed": true
   },
   "outputs": [],
   "source": [
    "print( 3 * 5 ) # Shown\n",
    "print( 16 / 4 ) # Shown"
   ]
  },
  {
   "cell_type": "markdown",
   "metadata": {},
   "source": [
    "Hey, did you see that <code style=\"color:dimgray; font-weight:bold\">Gray</code> text in the code cell? \n",
    "\n",
    "That's called a **comment**.\n",
    "* Comments add extra information, and they are not executed\n",
    "* In Python, comments start with the pound sign (a.k.a. hashtag): \n",
    "\n",
    "<pre style=\"color:dimgray\"># This is a comment</pre>"
   ]
  },
  {
   "cell_type": "code",
   "execution_count": null,
   "metadata": {
    "collapsed": true
   },
   "outputs": [],
   "source": [
    "# print( 3 * 5 )  <-- This code does not get run"
   ]
  },
  {
   "cell_type": "markdown",
   "metadata": {},
   "source": [
    "By the way, if you <code style=\"color:steelblue\">print()</code> multiple objects, separated by commas, it will **concatenate** those objects into a single string (more on strings later)."
   ]
  },
  {
   "cell_type": "code",
   "execution_count": null,
   "metadata": {
    "collapsed": true
   },
   "outputs": [],
   "source": [
    "# Print concatenation\n",
    "print( 'Testing', 1, 2, 3 )"
   ]
  },
  {
   "cell_type": "markdown",
   "metadata": {},
   "source": [
    "Great, now let's start our tour of the basics of the Python programming language.\n",
    "\n",
    "By the way, you'll  practice each of these topics throughout the course, so don't worry too much about remembering every little detail on your first pass."
   ]
  },
  {
   "cell_type": "markdown",
   "metadata": {
    "collapsed": true
   },
   "source": [
    "<br id=\"l1\">\n",
    "\n",
    "# Lesson 1: Python Basics\n",
    "\n",
    "First, import the print function (if you've closed and reopened Jupyter since last time)."
   ]
  },
  {
   "cell_type": "code",
   "execution_count": null,
   "metadata": {
    "collapsed": true
   },
   "outputs": [],
   "source": [
    "from __future__ import print_function  # Compatability with Python 3\n",
    "print('Print function ready to serve.')"
   ]
  },
  {
   "cell_type": "markdown",
   "metadata": {},
   "source": [
    "<hr style=\"border-color:royalblue;background-color:royalblue;height:1px;\">\n",
    "## <span style=\"color:RoyalBlue\">Exercise 1.2</span>\n",
    "\n",
    "It's time for your first exercise!\n",
    "\n",
    "This is actually the start of a long series of connected exercises. These will all belong to the same **training mission**, and they will continue through the entire Python Crash Course.\n",
    "\n",
    "***Here's the setting...***\n",
    "\n",
    "> *As a new recruit, you're being sent on a training mission.*\n",
    "\n",
    "> * *You will travel to different locations in London.*\n",
    "> * *First, you will prepare for and plan the trip.*\n",
    "> * *After you arrive at each location, you will meet with local business owners and offer your help.*\n",
    "\n",
    "<p style=\"text-align:center; margin-top:20px; margin-bottom:20px;\">\n",
    "<img src=\"https://elitedatascience.com/wp-content/uploads/2017/02/caseys-flower-shop.jpg\" alt=\"Casey's Flower Shop\" style=\"width:280px; box-shadow: 0 4px 8px 0 rgba(0, 0, 0, 0.2), 0 6px 20px 0 rgba(0, 0, 0, 0.19);\">\n",
    "<br>\n",
    "<em>You have a strange feeling that you'll see this banner again...</em>\n",
    "</p>\n",
    "\n",
    "> *Simple enough, right? Let's get started.*\n",
    "\n",
    "<br>\n",
    "\n",
    "**First, calculate the total volume of water you can carry, in cm$^3$.**\n",
    "* The formula for the volume of a cylinder is $V = \\pi r^2 h$"
   ]
  },
  {
   "cell_type": "code",
   "execution_count": null,
   "metadata": {
    "collapsed": false
   },
   "outputs": [],
   "source": [
    "# Total volume of water you can carry\n"
   ]
  },
  {
   "cell_type": "markdown",
   "metadata": {},
   "source": [
    "**Q estimates that you'll need at least 2000 cm$^3$ for the mission. Print <code style=\"color:steelblue\">True</code> if you have enough space or <code style=\"color:steelblue\">False</code> if you do not.**\n",
    "* Use the **greater-than-or-equal-to** operator."
   ]
  },
  {
   "cell_type": "code",
   "execution_count": null,
   "metadata": {
    "collapsed": false
   },
   "outputs": [],
   "source": [
    "# Do you have space for at least 2000 cm^3\n"
   ]
  },
  {
   "cell_type": "markdown",
   "metadata": {},
   "source": [
    "**If Q has 5000 cm$^3$ of water, what's the maximum number of bottles can you fill completely?**\n",
    "* The output should be an integer (completely full bottles)"
   ]
  },
  {
   "cell_type": "code",
   "execution_count": null,
   "metadata": {
    "collapsed": false
   },
   "outputs": [],
   "source": []
  },
  {
   "cell_type": "markdown",
   "metadata": {},
   "source": [
    "<hr style=\"border-color:royalblue;background-color:royalblue;height:1px;\">\n",
    "## <span style=\"color:RoyalBlue\">Exercise 1.3</span>\n",
    "\n",
    "You already told Q that you have enough space for water, but he didn't hear you clearly... You might need to just print him a message.\n",
    "\n",
    "<br>\n",
    "**Print the message:**\n",
    "\n",
    "<pre>Yes, I have enough space. I can carry <span style=\"color:steelblue\">total_volume</span> cm^3 of water</pre>\n",
    "\n",
    "* Dynamically insert value you calculated in <span style=\"color:royalblue\">Exercise 1.2</span> in place of <code style=\"color:steelblue\">total_volume</code>."
   ]
  },
  {
   "cell_type": "code",
   "execution_count": null,
   "metadata": {
    "collapsed": false
   },
   "outputs": [],
   "source": [
    "# Print message to Q\n"
   ]
  },
  {
   "cell_type": "markdown",
   "metadata": {},
   "source": [
    "<hr style=\"border-color:royalblue;background-color:royalblue;height:1px;\">\n",
    "## <span style=\"color:RoyalBlue\">Exercise 1.4</span>\n",
    "\n",
    "Repeat the calculations from <span style=\"color:RoyalBlue\">Exercise 1.2</span>, but this time use variables with descriptive names.\n",
    "\n",
    "* You have **3** empty cylinder-shaped bottles. \n",
    "* Each bottle has a height of **16** cm and a radius of **4** cm.\n",
    "* Each bottle can be completely filled (ignore the thickness of the bottle).\n",
    "* The formula for the volume of a cylinder is $V = \\pi r^2 h$\n",
    "\n",
    "<br>\n",
    "**Start by setting variables with descriptive names for bottle dimensions, the number of bottles, and $\\pi$.**"
   ]
  },
  {
   "cell_type": "code",
   "execution_count": null,
   "metadata": {
    "collapsed": true
   },
   "outputs": [],
   "source": [
    "# Set variables\n"
   ]
  },
  {
   "cell_type": "markdown",
   "metadata": {},
   "source": [
    "<br>\n",
    "**Next, calculate the intermediary step of a single bottle's volume.**\n",
    "* Set it to a new variable."
   ]
  },
  {
   "cell_type": "code",
   "execution_count": null,
   "metadata": {
    "collapsed": false
   },
   "outputs": [],
   "source": [
    "# Volume of one bottle (in cm^3)\n",
    "\n",
    "# Print volume of a single bottle\n"
   ]
  },
  {
   "cell_type": "markdown",
   "metadata": {},
   "source": [
    "<br>\n",
    "**Finally, calculate total volume.**\n",
    "* Set it to a new variable."
   ]
  },
  {
   "cell_type": "code",
   "execution_count": null,
   "metadata": {
    "collapsed": false
   },
   "outputs": [],
   "source": [
    "# Total volume\n",
    "\n",
    "# Print total volume\n"
   ]
  },
  {
   "cell_type": "markdown",
   "metadata": {},
   "source": [
    "<br>\n",
    "\n",
    "***The mission continues in the next lesson...***\n",
    "\n",
    "> *Now that you've stocked up on enough water, you're ready to go on your training mission into London.*\n",
    "\n",
    "> *In the next lesson, we'll start planning the trip and all the locations you'll visit.*\n",
    "\n",
    "<br>\n",
    "<hr style=\"border-color:royalblue;background-color:royalblue;height:1px;\">\n",
    "\n",
    "<div style=\"text-align:center; margin: 40px 0 40px 0;\">\n",
    "[**Back to Contents**](#toc)\n",
    "</div>"
   ]
  },
  {
   "cell_type": "markdown",
   "metadata": {
    "collapsed": true
   },
   "source": [
    "<br id=\"l2\">\n",
    "# Lesson 2: Data Structures\n",
    "\n",
    "First, import the print function (if you've closed and reopened Jupyter since last time)."
   ]
  },
  {
   "cell_type": "code",
   "execution_count": null,
   "metadata": {
    "collapsed": true
   },
   "outputs": [],
   "source": [
    "from __future__ import print_function  # Compatability with Python 3\n",
    "print('Print function ready to serve.')"
   ]
  },
  {
   "cell_type": "markdown",
   "metadata": {},
   "source": [
    "<hr style=\"border-color:royalblue;background-color:royalblue;height:1px;\">\n",
    "## <span style=\"color:RoyalBlue\">Exercise 2.1</span>\n",
    "\n",
    "***In the previous lesson...***\n",
    "\n",
    "> *In the previous lesson, you learned about the training mission: a visit to London.*\n",
    "\n",
    "> *You also made sure you had enough water for the trip by performing calculations.*\n",
    "\n",
    "\n",
    "Now, it's time to start planning the locations in London to visit!\n",
    "\n",
    "<p style=\"text-align:center; margin-top:30px; margin-bottom:30px\">\n",
    "<img src=\"https://elitedatascience.com/wp-content/uploads/2017/02/london-map-boroughs.png\" alt=\"London Boroughs Map\" width=640 style=\"box-shadow: 0 4px 8px 0 rgba(0, 0, 0, 0.2), 0 6px 20px 0 rgba(0, 0, 0, 0.19);\">\n",
    "<br>\n",
    "<em>Boroughs of London.</em>\n",
    "</p>\n",
    "\n",
    "Before we start, let's import lists of locations by borough. \n",
    "* These are stored in text files that Q has provided for you. \n",
    "* Python has a variety of **input/output** methods. We won't cover them here, but you can learn more about them in the [documentation](https://docs.python.org/2/tutorial/inputoutput.html).\n",
    "\n",
    "<br>\n",
    "**First, run this code.**"
   ]
  },
  {
   "cell_type": "code",
   "execution_count": null,
   "metadata": {
    "collapsed": true
   },
   "outputs": [],
   "source": [
    "# Read lists of locations (simply run this code block)\n",
    "with open('project_files/brent.txt', 'r') as f:\n",
    "    brent = f.read().splitlines()\n",
    "    \n",
    "with open('project_files/camden.txt', 'r') as f:\n",
    "    camden = f.read().splitlines()\n",
    "\n",
    "with open('project_files/redbridge.txt', 'r') as f:\n",
    "    redbridge = f.read().splitlines()\n",
    "\n",
    "with open('project_files/southwark.txt', 'r') as f:\n",
    "    southwark = f.read().splitlines()"
   ]
  },
  {
   "cell_type": "markdown",
   "metadata": {},
   "source": [
    "Note that when text files are read using the <code style=\"color:steelblue\">splitlines()</code> function, the resulting object is a list.\n",
    "\n",
    "So the four objects you just created from the files - <code style=\"color:steelblue\">brent</code>, <code style=\"color:steelblue\">camden</code>, <code style=\"color:steelblue\">redbridge</code>, and <code style=\"color:steelblue\">southwark</code> - are all lists."
   ]
  },
  {
   "cell_type": "code",
   "execution_count": null,
   "metadata": {
    "collapsed": true
   },
   "outputs": [],
   "source": [
    "print( type(brent) )"
   ]
  },
  {
   "cell_type": "markdown",
   "metadata": {},
   "source": [
    "Let's start exploring this data.\n",
    "\n",
    "<br>\n",
    "**Print the first 5 locations in Camden.**"
   ]
  },
  {
   "cell_type": "code",
   "execution_count": null,
   "metadata": {
    "collapsed": false
   },
   "outputs": [],
   "source": [
    "# Print the first 5 locations in Camden\n"
   ]
  },
  {
   "cell_type": "markdown",
   "metadata": {},
   "source": [
    "Next, we need to know how many locations are in each borough. \n",
    "\n",
    "<br>\n",
    "**Print the number of locations in each list.**\n",
    "* Which borough has the most locations?"
   ]
  },
  {
   "cell_type": "code",
   "execution_count": null,
   "metadata": {
    "collapsed": false
   },
   "outputs": [],
   "source": [
    "# Print length of each list\n"
   ]
  },
  {
   "cell_type": "markdown",
   "metadata": {},
   "source": [
    "Next, Q wants you to answer a couple of questions... His memory is not as good as it used to be. \n",
    "\n",
    "He asks you to:\n",
    "* **Print <code style=\"color:steelblue\">True</code> if <code>'Newbury Park'</code> is in Redbridge or <code style=\"color:steelblue\">False</code> if it's not.**\n",
    "* **Print <code style=\"color:steelblue\">True</code> if <code>'Peckham'</code> is in Brent or <code style=\"color:steelblue\">False</code> if it's not.**"
   ]
  },
  {
   "cell_type": "code",
   "execution_count": null,
   "metadata": {
    "collapsed": false
   },
   "outputs": [],
   "source": [
    "# Is 'Newbury Park' in Redbridge?\n",
    "\n",
    "\n",
    "# Is 'Peckham' in Brent?\n",
    "\n"
   ]
  },
  {
   "cell_type": "markdown",
   "metadata": {},
   "source": [
    "**Finally, print the minimum and maximum values in the Southwark list.**\n",
    "* Why do you think you get those results?\n",
    "* How do you think lists of strings are ordered?"
   ]
  },
  {
   "cell_type": "code",
   "execution_count": null,
   "metadata": {
    "collapsed": false
   },
   "outputs": [],
   "source": [
    "# Print minimum value in southwark\n",
    "\n",
    "\n",
    "# Print maximum value in southwark\n",
    "\n"
   ]
  },
  {
   "cell_type": "markdown",
   "metadata": {},
   "source": [
    "<hr style=\"border-color:royalblue;background-color:royalblue;height:1px;\">\n",
    "\n",
    "## <span style=\"color:RoyalBlue\">Exercise 2.3</span>\n",
    "Let's continue planning locations to visit for our training mission to London. Before we continue, we need to remove duplicates from our lists because we don't have time to visit the same location twice.\n",
    "\n",
    "<br>\n",
    "**For each of the 4 lists of locations, print <code style=\"color:steelblue\">True</code> if it has duplicate locations and <code style=\"color:steelblue\">False</code> if it doesn't.**\n",
    "* Hint: A list with duplicates will have a greater length than a set of the same locations."
   ]
  },
  {
   "cell_type": "code",
   "execution_count": null,
   "metadata": {
    "collapsed": false
   },
   "outputs": [],
   "source": [
    "# Brent has duplicates?\n",
    "\n",
    "# Camden has duplicates?\n",
    "\n",
    "# Redbridge has duplicates?\n",
    "\n",
    "# Southwark has duplicates?\n"
   ]
  },
  {
   "cell_type": "markdown",
   "metadata": {},
   "source": [
    "<br>\n",
    "**For the lists with duplicates, remove duplicates by converting them into sets. Then, convert them back into lists.**\n",
    "* Hint: <code style=\"color:steelblue\">set()</code> and <code style=\"color:steelblue\">list()</code> are your friends."
   ]
  },
  {
   "cell_type": "code",
   "execution_count": null,
   "metadata": {
    "collapsed": true
   },
   "outputs": [],
   "source": [
    "# Convert lists to sets to remove duplicates, then convert them back to lists \n",
    "\n"
   ]
  },
  {
   "cell_type": "markdown",
   "metadata": {},
   "source": [
    "Great, we're now almost ready to visit the locations. \n",
    "\n",
    "But first, let's look at a simple way to store the locations in one place."
   ]
  },
  {
   "cell_type": "markdown",
   "metadata": {},
   "source": [
    "<hr style=\"border-color:royalblue;background-color:royalblue;height:1px;\">\n",
    "\n",
    "## <span style=\"color:RoyalBlue\">Exercise 2.4</span>\n",
    "\n",
    "We're almost ready to visit the locations in London! \n",
    "\n",
    "However, it's too cumbersome to lug around the 4 different lists we created in <span style=\"color:RoyalBlue\">Exercise 2.3</span>.\n",
    "\n",
    "<br>\n",
    "**Create a single dictionary named <code style=\"color:steelblue\">location_dict</code> for the locations in each borough.**\n",
    "* Each key should be the name of the borough.\n",
    "* Their values should be the lists of unique locations you created in <span style=\"color:RoyalBlue\">Exercise 2.3</span>."
   ]
  },
  {
   "cell_type": "code",
   "execution_count": null,
   "metadata": {
    "collapsed": true
   },
   "outputs": [],
   "source": [
    "# Create location_dict\n",
    "\n"
   ]
  },
  {
   "cell_type": "markdown",
   "metadata": {},
   "source": [
    "Next, let's make sure the dictionary has the correct keys. \n",
    "\n",
    "<br>\n",
    "**Run the cell below and check the output.**\n",
    "* What do you think the code below is doing?\n",
    "* You'll learn more about <code style=\"color:steelblue\">for</code> loops in the next lesson."
   ]
  },
  {
   "cell_type": "code",
   "execution_count": null,
   "metadata": {
    "collapsed": false
   },
   "outputs": [],
   "source": [
    "# Run this cell\n",
    "for borough in ['Brent', 'Camden', 'Redbridge', 'Southwark']:\n",
    "    print( borough in location_dict )"
   ]
  },
  {
   "cell_type": "markdown",
   "metadata": {},
   "source": [
    "<br>\n",
    "Did you get the expected output? If not, check the answer key before moving on.\n",
    "\n",
    "Suddenly, Q walks over to you and says...\n",
    "\n",
    "> \"Hmm... if you set up the dictionary correctly, you won't need the original lists anymore.\"\n",
    "\n",
    "> \"Please get rid of them.\"\n",
    "\n",
    "<br>\n",
    "**Run this next code cell to overwrite the original borough lists with <code style=\"color:steelblue\">None</code>.**"
   ]
  },
  {
   "cell_type": "code",
   "execution_count": null,
   "metadata": {
    "collapsed": true
   },
   "outputs": [],
   "source": [
    "# Run this cell\n",
    "brent, camden, redbridge, southwark = None, None, None, None"
   ]
  },
  {
   "cell_type": "markdown",
   "metadata": {},
   "source": [
    "By the way, <code style=\"color:steelblue\">None</code> is its own object type in Python.\n",
    "\n",
    "<br>\n",
    "> *<span style=\"color:tomato; font-weight:bold\">None</span> is an object that denotes emptiness.*\n",
    "\n",
    "<br>\n",
    "For example:"
   ]
  },
  {
   "cell_type": "code",
   "execution_count": null,
   "metadata": {
    "collapsed": false
   },
   "outputs": [],
   "source": [
    "print( type(None) )"
   ]
  },
  {
   "cell_type": "markdown",
   "metadata": {},
   "source": [
    "Now, we want to split our visit to London into two trips: one for Inner London and one for Outer London.\n",
    "\n",
    "<br>\n",
    "**Add two new items to your dictionary:**\n",
    "1. **Key:** <code style=\"color:steelblue\">'Inner London'</code>... **Value:** All locations in <code style=\"color:steelblue\">'Camden'</code> and <code style=\"color:steelblue\">'Southwark'</code>.\n",
    "2. **Key:** <code style=\"color:steelblue\">'Outer London'</code>... **Value:** All locations in <code style=\"color:steelblue\">'Brent'</code> and <code style=\"color:steelblue\">'Redbridge'</code>.\n",
    "\n",
    "Since you got rid of your original lists, you'll have to use the values you've already stored in your dictionary."
   ]
  },
  {
   "cell_type": "code",
   "execution_count": null,
   "metadata": {
    "collapsed": true
   },
   "outputs": [],
   "source": [
    "# Create a new key-value pair for 'Inner London'\n",
    "\n",
    "\n",
    "# Create a new key-value pair for 'Outer London'\n",
    "\n"
   ]
  },
  {
   "cell_type": "markdown",
   "metadata": {},
   "source": [
    "Finally, let's just check that we have the right number of locations for each trip.\n",
    "* You should have 32 for Inner London\n",
    "* You should have 35 for Outer London\n",
    "\n",
    "<br>\n",
    "**Run the cell below and check that you get the expected output.**"
   ]
  },
  {
   "cell_type": "code",
   "execution_count": null,
   "metadata": {
    "collapsed": false
   },
   "outputs": [],
   "source": [
    "print( len(location_dict['Inner London']) )\n",
    "print( len(location_dict['Outer London']) )"
   ]
  },
  {
   "cell_type": "markdown",
   "metadata": {},
   "source": [
    "If you don't have the right number of locations, doublecheck that you removed duplicates and that you're concatenating the correct lists. You can also check the answer key for the solution.\n",
    "\n",
    "<br>\n",
    "**Once you have the right number of locations, let's save this object so we can use it in the next lesson. Run the cell below.**\n",
    "* We'll use a Python built-in package called <code style=\"color:steelblue\">pickle</code> to do so.\n",
    "* Pickle saves an entire object in a file on your computer."
   ]
  },
  {
   "cell_type": "code",
   "execution_count": null,
   "metadata": {
    "collapsed": true
   },
   "outputs": [],
   "source": [
    "import pickle\n",
    "\n",
    "# Save object to disk\n",
    "with open('location_dict.pkl', 'wb') as f:\n",
    "    pickle.dump(location_dict, f)"
   ]
  },
  {
   "cell_type": "markdown",
   "metadata": {},
   "source": [
    "<br>\n",
    "***The mission continues in the next lesson...***\n",
    "\n",
    "> *Now you have a dictionary of locations in London by borough.*\n",
    "\n",
    "> *In the next lesson, we'll look through the locations and pick one to start with.*\n",
    "\n",
    "<br>\n",
    "\n",
    "<hr style=\"border-color:royalblue;background-color:royalblue;height:1px;\">\n",
    "\n",
    "<div style=\"text-align:center; margin: 40px 0 40px 0;\">\n",
    "[**Back to Contents**](#toc)\n",
    "</div>"
   ]
  },
  {
   "cell_type": "markdown",
   "metadata": {},
   "source": [
    "<br id=\"l3\">\n",
    "# Lesson 3: Flow and Functions\n",
    "\n",
    "First, import the print function (if you've closed and reopened Jupyter since last time)."
   ]
  },
  {
   "cell_type": "code",
   "execution_count": null,
   "metadata": {
    "collapsed": true
   },
   "outputs": [],
   "source": [
    "from __future__ import print_function  # Compatability with Python 3\n",
    "print('Print function ready to serve.')"
   ]
  },
  {
   "cell_type": "markdown",
   "metadata": {},
   "source": [
    "<hr style=\"border-color:royalblue;background-color:royalblue;height:1px;\">\n",
    "## <span style=\"color:RoyalBlue\">Exercise 3.1</span>\n",
    "\n",
    "***In the previous lesson...***\n",
    "\n",
    "> *In the previous lesson, you created a location dictionary for the boroughs we're interested in visting.*\n",
    "\n",
    "Now we're ready to pick a location to start with.\n",
    "\n",
    "<br>\n",
    "**First, let's import <code style=\"color:steelblue\">location_dict</code> again using <code style=\"color:steelblue\">pickle</code>. Run this cell.**"
   ]
  },
  {
   "cell_type": "code",
   "execution_count": null,
   "metadata": {
    "collapsed": false
   },
   "outputs": [],
   "source": [
    "import pickle\n",
    "\n",
    "# Read object from disk\n",
    "with open('location_dict.pkl', 'rb') as f:\n",
    "    location_dict = pickle.load(f)"
   ]
  },
  {
   "cell_type": "markdown",
   "metadata": {},
   "source": [
    "Now we have the <code style=\"color:steelblue\">location_dict</code> object again, but what if we forgot which keys are in the dictionary? \n",
    "\n",
    "<br>\n",
    "**Print the keys in <code style=\"color:steelblue\">location_dict</code>.**"
   ]
  },
  {
   "cell_type": "code",
   "execution_count": null,
   "metadata": {
    "collapsed": false
   },
   "outputs": [],
   "source": [
    "# Print the keys in location_dict\n"
   ]
  },
  {
   "cell_type": "markdown",
   "metadata": {},
   "source": [
    "Ah, yes... \n",
    "\n",
    "Now, we need to choose between starting with <code style=\"color:steelblue\">'Outer London'</code> or with <code style=\"color:steelblue\">'Inner London'</code>. We should start with the list with more locations, so let's find which one it is.\n",
    "\n",
    "<br>\n",
    "**Write code, using <code style=\"color:steelblue\">if</code> statements, that does the following:**\n",
    "* **If** our Inner London list has more locations than our Outer London list, print the message:\n",
    "\n",
    "\n",
    "<pre style=\"color:steelblue\">I want to start in Inner London.</pre>\n",
    "\n",
    "\n",
    "* **Else if** our Outer London list has more locations than our Inner London list, print the message:\n",
    "\n",
    "    \n",
    "<pre style=\"color:steelblue\">I want to start in Outer London.</pre>\n",
    "\n",
    "\n",
    "* **Else** (i.e. they have the same number of locations), print the message:\n",
    "\n",
    "\n",
    "<pre style=\"color:steelblue\">Either is fine. Flip a coin, Q.</pre>\n",
    "\n"
   ]
  },
  {
   "cell_type": "code",
   "execution_count": null,
   "metadata": {
    "collapsed": true
   },
   "outputs": [],
   "source": [
    "# Write code here\n"
   ]
  },
  {
   "cell_type": "markdown",
   "metadata": {},
   "source": [
    "<hr style=\"border-color:royalblue;background-color:royalblue;height:1px;\">\n",
    "## <span style=\"color:RoyalBlue\">Exercise 3.2</span>\n",
    "\n",
    "Remember in <span style=\"color:RoyalBlue\">Exercise 3.1</span>, we said that we wanted to start with the list with the most locations.\n",
    "* We already knew that it would be either Inner London or Outer London because those lists are combinations of 2 of the others.\n",
    "* However, what if we didn't know that?\n",
    "\n",
    "<br>\n",
    "**For each key in <code style=\"color:steelblue\">location_dict</code>, print the number of locations in its list, like so:**\n",
    "\n",
    "<pre style=\"color:steelblue\">\n",
    "Southwalk has 13 locations.\n",
    "Redbridge has ...\n",
    "</pre> \n",
    "\n",
    "* **Tip:** You can iterate through keys and values of a dictionary at the same time using <code style=\"color:steelblue\">.items()</code>, like so:\n",
    "\n",
    "<pre style=\"color:#bbb\">\n",
    "for <strong style=\"color:steelblue\">key, value</strong> in location_dict<strong style=\"color:steelblue\">.items()</strong>:\n",
    "    <span style=\"color:dimgray\"># code block</span>\n",
    "</pre>      \n",
    "        \n",
    "* **Tip:** Remember, to insert multiple dynamic values into a string, you can just add more places to <code style=\"color:steelblue\">.format()</code>, like so:\n",
    "\n",
    "<pre style=\"color:#bbb\">\n",
    "'<strong style=\"color:steelblue\">{}</strong> has <strong style=\"color:steelblue\">{}</strong> locations.'.format(<strong style=\"color:steelblue\">first_value, second_value</strong>)\n",
    "</pre>"
   ]
  },
  {
   "cell_type": "code",
   "execution_count": null,
   "metadata": {
    "collapsed": false
   },
   "outputs": [],
   "source": [
    "# For each key in location_dict, print the number of locations in its list\n"
   ]
  },
  {
   "cell_type": "markdown",
   "metadata": {},
   "source": [
    "Now, let's give each location in Outer London a first impression based on its name. \n",
    "\n",
    "<br>\n",
    "**Combine <code style=\"color:steelblue\">if</code> and <code style=\"color:steelblue\">for</code> statements. For each location in Outer London...**\n",
    "* **If** its name has <code style=\"color:steelblue\">'Farm'</code>, <code style=\"color:steelblue\">'Park'</code>, <code style=\"color:steelblue\">'Hill'</code>, or <code style=\"color:steelblue\">'Green'</code> in it, print:\n",
    "\n",
    "<pre style=\"color:steelblue\">{<strong>name</strong>} sounds pleasant.</pre>\n",
    "\n",
    "* **Else If** its name has <code style=\"color:steelblue\">'Royal'</code>, <code style=\"color:steelblue\">'Queen'</code>, or <code style=\"color:steelblue\">'King'</code> in it, print:\n",
    "\n",
    "<pre style=\"color:steelblue\">{<strong>name</strong>} sounds grand.</pre>\n",
    "    \n",
    "* If its name doesn't sound pleasant or grand, just ignore it.\n",
    "* **Tip:** If you want to check if any word from a list is found in a string, you can use <code style=\"color:steelblue\">any()</code>, like so:\n",
    "\n",
    "<pre style=\"color:steelblue\">\n",
    "any( word in name for word in <strong>list_of_words</strong> )\n",
    "</pre>"
   ]
  },
  {
   "cell_type": "code",
   "execution_count": null,
   "metadata": {
    "collapsed": false
   },
   "outputs": [],
   "source": [
    "pleasant_sounding = ['Farm', 'Park', 'Hill', 'Green']\n",
    "royal_sounding = ['Royal', 'Queen', 'King']\n",
    "\n",
    "# Print first impression of each location in Outer London based on its names\n"
   ]
  },
  {
   "cell_type": "markdown",
   "metadata": {},
   "source": [
    "<hr style=\"border-color:royalblue;background-color:royalblue;height:1px;\">\n",
    "## <span style=\"color:RoyalBlue\">Exercise 3.3</span>\n",
    "\n",
    "**Using a list comprehension, create a new list called <code style=\"color:steelblue\">pleasant_locations</code>.**\n",
    "* It should contain locations in Outer London that are <code style=\"color:steelblue\">pleasant_sounding</code>.\n",
    "* Then print the list.\n",
    "* **Tip:** To check if any word from a list is found in a string, you can use <code style=\"color:steelblue\">any()</code>. See <span style=\"color:RoyalBlue\">Exercise 4.2</span> if you need a reminder."
   ]
  },
  {
   "cell_type": "code",
   "execution_count": null,
   "metadata": {
    "collapsed": false
   },
   "outputs": [],
   "source": [
    "# Create pleasant_locations list using a list comprehension\n",
    "\n",
    "# Print the pleasant-sounding locations\n"
   ]
  },
  {
   "cell_type": "markdown",
   "metadata": {},
   "source": [
    "**Print the number pleasant-sounding locations we have.**"
   ]
  },
  {
   "cell_type": "code",
   "execution_count": null,
   "metadata": {
    "collapsed": false
   },
   "outputs": [],
   "source": [
    "# Print number of pleasant-sounding locations\n"
   ]
  },
  {
   "cell_type": "markdown",
   "metadata": {},
   "source": [
    "<hr style=\"border-color:royalblue;background-color:royalblue;height:1px;\">\n",
    "## <span style=\"color:RoyalBlue\">Exercise 3.4</span>\n",
    "\n",
    "**Write a function called <code style=\"color:steelblue\">filter_locations</code> that takes two arguments:**\n",
    "1. <code style=\"color:steelblue\">location_list</code>\n",
    "2. <code style=\"color:steelblue\">words_list</code>\n",
    "\n",
    "The function should return the list of names in <code style=\"color:steelblue\">location_list</code> that have any word in <code style=\"color:steelblue\">words_list</code>.\n",
    "* **Tip:** For help with the code block, see your answer in <span style=\"color:RoyalBlue\">Exercise 4.3</span>."
   ]
  },
  {
   "cell_type": "code",
   "execution_count": null,
   "metadata": {
    "collapsed": true
   },
   "outputs": [],
   "source": [
    "# Code here\n"
   ]
  },
  {
   "cell_type": "markdown",
   "metadata": {},
   "source": [
    "Next, let's test that function. \n",
    "\n",
    "<br>\n",
    "**Create a new <code style=\"color:steelblue\">pleasant_locations</code> list using the function you just wrote.**\n",
    "* Pass in the list of Outer London locations and the list of pleasant-sounding words.\n",
    "* You should get the same locations that you got in <span style=\"color:RoyalBlue\">Exercise 3.3</span>.\n",
    "* Print the new list."
   ]
  },
  {
   "cell_type": "code",
   "execution_count": null,
   "metadata": {
    "collapsed": false
   },
   "outputs": [],
   "source": [
    "# Create pleasant_locations using filter_locations()\n",
    "\n",
    "\n",
    "# Print list of pleasant-sounding locations\n",
    "\n"
   ]
  },
  {
   "cell_type": "markdown",
   "metadata": {},
   "source": [
    "**Next, let's use this handy function to create a <code style=\"color:steelblue\">grand_locations</code> list for locations that sound grand.**\n",
    "* Pass in the list of Outer London locations and the list of grand-sounding words.\n",
    "* Print the new list and confirm the expected output"
   ]
  },
  {
   "cell_type": "code",
   "execution_count": null,
   "metadata": {
    "collapsed": false
   },
   "outputs": [],
   "source": [
    "# Create grand_locations using filter_locations()\n",
    "\n",
    "\n",
    "# Print list of grand-sounding locations\n",
    "\n"
   ]
  },
  {
   "cell_type": "markdown",
   "metadata": {},
   "source": [
    "Awesome, are there any locations in both lists?\n",
    "\n",
    "<br>\n",
    "**Display the locations in both the <code style=\"color:steelblue\">pleasant_locations</code> and <code style=\"color:steelblue\">grand_locations</code> lists.**\n",
    "* You can compare these lists manually because they are short, but try using <code style=\"color:steelblue\">sets</code> and the <code style=\"color:steelblue\">.intersection()</code> function (or <code style=\"color:steelblue\">&</code> operator)!"
   ]
  },
  {
   "cell_type": "code",
   "execution_count": null,
   "metadata": {
    "collapsed": false
   },
   "outputs": [],
   "source": [
    "# Display locations that sound pleasant and grand\n",
    "\n"
   ]
  },
  {
   "cell_type": "markdown",
   "metadata": {},
   "source": [
    "Great, we'll start with these for our visit.\n",
    "\n",
    "<br>\n",
    "** *The mission continues in the next lesson...* **\n",
    "\n",
    "> *In this lesson, we filtered our lists of locations down to two: Park Royal and Queen's Park.*\n",
    "\n",
    "> *In the next lesson, we'll visit Park Royal and talk with some local businesses there.*\n",
    "\n",
    "<br>\n",
    "<hr style=\"border-color:royalblue;background-color:royalblue;height:1px;\">\n",
    "\n",
    "<div style=\"text-align:center; margin: 40px 0 40px 0;\">\n",
    "[**Back to Contents**](#toc)\n",
    "</div>"
   ]
  },
  {
   "cell_type": "markdown",
   "metadata": {},
   "source": [
    "<br id=\"l4\">\n",
    "# Lesson 4: NumPy\n",
    "\n",
    "First, import the print function (if you've closed and reopened Jupyter since last time)."
   ]
  },
  {
   "cell_type": "code",
   "execution_count": null,
   "metadata": {
    "collapsed": true
   },
   "outputs": [],
   "source": [
    "from __future__ import print_function  # Compatability with Python 3\n",
    "print('Print function ready to serve.')"
   ]
  },
  {
   "cell_type": "markdown",
   "metadata": {},
   "source": [
    "Then, let's import NumPy."
   ]
  },
  {
   "cell_type": "code",
   "execution_count": null,
   "metadata": {
    "collapsed": false
   },
   "outputs": [],
   "source": [
    "import numpy as np"
   ]
  },
  {
   "cell_type": "markdown",
   "metadata": {},
   "source": [
    "<hr style=\"border-color:royalblue;background-color:royalblue;height:1px;\">\n",
    "\n",
    "## <span style=\"color:RoyalBlue\">Exercise 4.1</span>\n",
    "\n",
    "***In the previous lesson...***\n",
    "\n",
    "> *In the previous lesson, we decided on Park Royal as our first stop in our training mission to London.*\n",
    "\n",
    "Now we've arrived at the tube station!\n",
    "\n",
    "<p style=\"text-align:center; margin-top:30px; margin-bottom:30px\">\n",
    "<img alt=\"Park Royal Tube Station\" style=\"width: 320px; box-shadow: 0 4px 8px 0 rgba(0, 0, 0, 0.2), 0 6px 20px 0 rgba(0, 0, 0, 0.19);\"  src=\"https://elitedatascience.com/wp-content/uploads/2017/02/park-royal-tube.jpg\">\n",
    "<br>\n",
    "<em>Park Royal Tube Station</em>\n",
    "</p>\n",
    "\n",
    "Park Royal is home to London's largest business park. \n",
    "* The business park supports around 1,700 businesses.\n",
    "* Q hands you a manual with their names and locations. \n",
    "* *They are listed in order from smallest to largest* (this will be important later).\n",
    "\n",
    "<br>\n",
    "**First, let's create a NumPy array called <code style=\"color:steelblue\">business_ids</code>.**\n",
    "* The first business has ID <code>1</code>, the second one has ID <code>2</code> and so on.\n",
    "* The array should have shape <code style=\"color:steelblue\">(1700,)</code>."
   ]
  },
  {
   "cell_type": "code",
   "execution_count": null,
   "metadata": {
    "collapsed": true
   },
   "outputs": [],
   "source": [
    "# Create array of business_ids with values ranging from 1 to 1700\n",
    "\n"
   ]
  },
  {
   "cell_type": "markdown",
   "metadata": {},
   "source": [
    "**Next, print the shape of <code style=\"color:steelblue\">business_ids</code> to confirm it has shape <code style=\"color:steelblue\">(1700, )</code>.**"
   ]
  },
  {
   "cell_type": "code",
   "execution_count": null,
   "metadata": {
    "collapsed": false
   },
   "outputs": [],
   "source": [
    "# Print shape of business_ids\n",
    "\n"
   ]
  },
  {
   "cell_type": "markdown",
   "metadata": {},
   "source": [
    "**Finally, print the last 10 business ID's to confirm the array is set up properly.**"
   ]
  },
  {
   "cell_type": "code",
   "execution_count": null,
   "metadata": {
    "collapsed": false
   },
   "outputs": [],
   "source": [
    "# Print last 10 business ID's\n",
    "\n"
   ]
  },
  {
   "cell_type": "markdown",
   "metadata": {},
   "source": [
    "<hr style=\"border-color:royalblue;background-color:royalblue;height:1px;\">\n",
    "\n",
    "## <span style=\"color:RoyalBlue\">Exercise 4.2a</span>\n",
    "\n",
    "There are **1700** businesses in Park Royal's business park. However, you only have **10** hours to stay in Park Royal before you need to move on to the next location. Assuming you could only visit **5** businesses per hour, which businesses should you visit?\n",
    "\n",
    "Well, 2 options immediately come to mind:\n",
    "1. You could just visit the first 50 businesses.\n",
    "2. You could randomly sample 50 businesses.\n",
    "\n",
    "While these appear fine at first glance, there are potential flaws with both of these approaches. Remember, in <span style=\"color:royalblue\">Exercise 4.1</span>, we learned that the businesses were listed in order from smallest to largest! Therefore...\n",
    "1. Just visiting the first 50 would give us a biased sample of only the smallest businesses.\n",
    "2. Visiting a random sample of 50 is better, but there's still a chance that our sample ends up biased from pure chance.\n",
    "\n",
    "Instead, let's take a **stratified random sample** based on the size of the business.\n",
    "\n",
    "### WTF is stratified random sampling?\n",
    "\n",
    "This is a very important concept for practical machine learning. \n",
    "\n",
    "<br>\n",
    "> *<span style=\"color:tomato; font-weight:bold\">Stratified random sampling</span> is first grouping your observations based on a key variable, and then randomly sampling from those groups.* \n",
    "\n",
    "<br>\n",
    "\n",
    "This will ensure your sample is **representative** of the broader dataset along that key variable.\n",
    "\n",
    "<p style=\"text-align:center\">\n",
    "<img src=\"https://upload.wikimedia.org/wikipedia/commons/f/fa/Stratified_sampling.PNG\" alt=\"Stratified Random Sampling\" style=\"width: 280px;\"/>\n",
    "<br>\n",
    "<em>Stratified Random Sampling</em>\n",
    "</p>\n",
    "\n",
    "For this exercise, it just means that...\n",
    "* We'll start by splitting our businesses into 10 groups of 170 businesses each.\n",
    "* The first group will have ID's from 1 to 170, the second will have ID's from 171 to 340, etc.\n",
    "* Then we'll randomly select 5 businesses from each group of 170.\n",
    "* Since the businesses are already ordered by size, this will ensure that small, medium, and big businesses are all represented in our sample.\n",
    "\n",
    "<br>\n",
    "**First, reshape the 1-dimensional <code style=\"color:steelblue\">business_ids</code> array into a new 2-dimensional <code style=\"color:steelblue\">id_matrix</code> array.**\n",
    "* <code style=\"color:steelblue\">id_matrix</code> should have **10 columns**... one for each group of businesses.\n",
    "* How many rows should it have?\n",
    "* What does the number of rows represent?"
   ]
  },
  {
   "cell_type": "code",
   "execution_count": null,
   "metadata": {
    "collapsed": false
   },
   "outputs": [],
   "source": [
    "# Create id_matrix by reshaping business_ids to have 10 columns\n",
    "\n",
    "\n",
    "# Print shape\n",
    "\n"
   ]
  },
  {
   "cell_type": "markdown",
   "metadata": {},
   "source": [
    "Great, now we have a matrix with 10 columns representing 10 groups of businesses. But remember, our goal is to stratify our sample by size of the business, and because our businesses are ordered by size, the first group should be 1 to 170, the second group should be 171 to 340, and so on.\n",
    "\n",
    "<br>\n",
    "**Print the first column (group) of <code style=\"color:steelblue\">id_matrix</code>.**\n",
    "* Does it contain businesses 1 to 170?"
   ]
  },
  {
   "cell_type": "code",
   "execution_count": null,
   "metadata": {
    "collapsed": false
   },
   "outputs": [],
   "source": [
    "# Print first column of id_matrix\n",
    "\n"
   ]
  },
  {
   "cell_type": "markdown",
   "metadata": {},
   "source": [
    "Crap, that's not what we wanted. Ah, but we should have seen this coming!\n",
    "\n",
    "Remember, when you <code style=\"color:steelblue\">.reshape</code> an array, the new array keeps the order of the elements. Continue reading to see how we can solve this."
   ]
  },
  {
   "cell_type": "markdown",
   "metadata": {},
   "source": [
    "<hr style=\"border-color:royalblue;background-color:royalblue;height:1px;\">\n",
    "\n",
    "## <span style=\"color:RoyalBlue\">Exercise 4.2b</span>\n",
    "\n",
    "Let's try building that <code style=\"color:steelblue\">id_matrix</code> again. \n",
    "\n",
    "<br>\n",
    "**This time, reshape it to have 10 rows, each representing 1 group of businesses.**\n",
    "* The first row should contain businesses 1 to 170."
   ]
  },
  {
   "cell_type": "code",
   "execution_count": null,
   "metadata": {
    "collapsed": true
   },
   "outputs": [],
   "source": [
    "# Reshape business_ids to have 10 rows, with 170 businesses each\n",
    "\n"
   ]
  },
  {
   "cell_type": "markdown",
   "metadata": {},
   "source": [
    "**Now, print the first row of <code style=\"color:steelblue\">id_matrix</code>.**"
   ]
  },
  {
   "cell_type": "code",
   "execution_count": null,
   "metadata": {
    "collapsed": false
   },
   "outputs": [],
   "source": [
    "# Print the first row of id_matrix\n",
    "\n"
   ]
  },
  {
   "cell_type": "markdown",
   "metadata": {},
   "source": [
    "You should see the businesses with ID's from **1 to 170**.\n",
    "\n",
    "Now, what if we still want our groups to be grouped by column, instead of by row? Let's *flip our rows and columns* now that the rows have the correct groups.\n",
    "\n",
    "<br>\n",
    "**Overwrite <code style=\"color:steelblue\">id_matrix</code> with its transposed version.**\n",
    "* After you do so, print the first column in the new <code style=\"color:steelblue\">id_matrix</code> to confirm the group is correct.\n",
    "* Also print the shape of the new <code style=\"color:steelblue\">id_matrix</code> to confirm your new dimensions are correct."
   ]
  },
  {
   "cell_type": "code",
   "execution_count": null,
   "metadata": {
    "collapsed": false
   },
   "outputs": [],
   "source": [
    "# Overwrite id_matrix with flipped version\n",
    "\n",
    "\n",
    "# Print first column\n",
    "\n",
    "\n",
    "# Print shape of new id_matrix\n",
    "\n"
   ]
  },
  {
   "cell_type": "markdown",
   "metadata": {},
   "source": [
    "<hr style=\"border-color:royalblue;background-color:royalblue;height:1px;\">\n",
    "\n",
    "## <span style=\"color:RoyalBlue\">Exercise 4.3</span>\n",
    "\n",
    "Let's take another look at our <code style=\"color:steelblue\">id_matrix</code>. \n",
    "\n",
    "* In <span style=\"color:royalblue\">Exercise 4.2b</span> we displayed the first group (column) and confirmed that the ID's were from **1 to 170**.\n",
    "* Now let's confirm the rest of the array is correct by finding the <code style=\"color:steelblue\">np.min()</code> and <code style=\"color:steelblue\">np.max()</code> of each group.\n",
    "\n",
    "<br>\n",
    "**First, create and print an object called <code style=\"color:steelblue\">group_min</code> with the minimum ID of each group (column) of <code style=\"color:steelblue\">id_matrix</code>.**"
   ]
  },
  {
   "cell_type": "code",
   "execution_count": null,
   "metadata": {
    "collapsed": false
   },
   "outputs": [],
   "source": [
    "# Create group_min\n",
    "\n",
    "\n",
    "# Print group_min\n",
    "\n"
   ]
  },
  {
   "cell_type": "markdown",
   "metadata": {},
   "source": [
    "**Next, create and print an object called <code style=\"color:steelblue\">group_max</code> with the maximum ID of each group (column) of <code style=\"color:steelblue\">id_matrix</code>.**"
   ]
  },
  {
   "cell_type": "code",
   "execution_count": null,
   "metadata": {
    "collapsed": false
   },
   "outputs": [],
   "source": [
    "# Create group_max\n",
    "\n",
    "\n",
    "# Print group_max\n",
    "\n"
   ]
  },
  {
   "cell_type": "markdown",
   "metadata": {},
   "source": [
    "**Finally, subtract <code style=\"color:steelblue\">group_min</code> from <code style=\"color:steelblue\">group_max</code> to confirm that each of the 10 groups has a <span style=\"tomato\">range</span> of 170.**\n",
    "* Remember to add 1 to the difference between max and min because the ends are inclusive \n",
    "    * i.e. $170 - 1 = 169$"
   ]
  },
  {
   "cell_type": "code",
   "execution_count": null,
   "metadata": {
    "collapsed": false
   },
   "outputs": [],
   "source": [
    "# Print range of each group\n",
    "\n"
   ]
  },
  {
   "cell_type": "markdown",
   "metadata": {},
   "source": [
    "<hr style=\"border-color:royalblue;background-color:royalblue;height:1px;\">\n",
    "\n",
    "## <span style=\"color:RoyalBlue\">Exercise 4.4</span>\n",
    "\n",
    "Great job so far.\n",
    "\n",
    "We are now ready to select 5 businesses from each group in <code style=\"color:steelblue\">id_matrix</code>.\n",
    "\n",
    "<br>\n",
    "**Write a loop that chooses 5 businesses from column of <code style=\"color:steelblue\">id_matrix</code>.**\n",
    "* Set the random seed to 9001.\n",
    "* Format the output like in the <span style=\"color:royalblue\">Expected output</span> cell below.\n",
    "* Should we sample with replacement or without replacement? **Hint:** What happens if a business is selected twice?\n",
    "* Bonus points for writing the loop in a way that works with any number of columns."
   ]
  },
  {
   "cell_type": "code",
   "execution_count": null,
   "metadata": {
    "collapsed": false
   },
   "outputs": [],
   "source": [
    "# Seed random seed\n",
    "\n",
    "\n",
    "# Print selected businesses from each group\n",
    "\n"
   ]
  },
  {
   "cell_type": "markdown",
   "metadata": {},
   "source": [
    "Awesome, now we're ready to start visiting the businesses... Let's start with Group 1 and the business with ID 7. \n",
    "\n",
    "After checking our manual, we find out that this business happens to be **Casey's Flower Shop**!\n",
    "\n",
    "<p style=\"text-align:center\">\n",
    "<img src=\"https://elitedatascience.com/wp-content/uploads/2017/02/caseys-flower-shop.jpg\" alt=\"Caseys Flower Shop\" style=\"width: 280px; box-shadow: 0 4px 8px 0 rgba(0, 0, 0, 0.2), 0 6px 20px 0 rgba(0, 0, 0, 0.19); margin-top:20px\">\n",
    "<br>\n",
    "<em>The <s>cheesy</s> welcoming banner outside Casey's door.</em>\n",
    "</p>\n",
    "\n",
    "WTF does Casey's Flower Shop have to do with anything? Find out <s>next time on Dragon Ball Z</s> in the next lesson!\n",
    "\n",
    "<br>\n",
    "** *The mission continues in the next lesson...* **\n",
    "\n",
    "> *In this lesson, you narrowed the list of businesses down through stratified random sampling.*\n",
    "\n",
    "> *In the next lesson, you'll visit Casey's Flower Shop and offer help using your data analysis skills!*\n",
    "\n",
    "<br>\n",
    "<hr style=\"border-color:royalblue;background-color:royalblue;height:1px;\">\n",
    "\n",
    "<div style=\"text-align:center; margin: 40px 0 40px 0;\">\n",
    "[**Back to Contents**](#toc)\n",
    "</div>"
   ]
  },
  {
   "cell_type": "markdown",
   "metadata": {
    "collapsed": true
   },
   "source": [
    "<br id=\"l5\">\n",
    "# Lesson 5: Pandas\n",
    "\n",
    "First, import the print function (if you've closed and reopened Jupyter since last time)."
   ]
  },
  {
   "cell_type": "code",
   "execution_count": null,
   "metadata": {
    "collapsed": true
   },
   "outputs": [],
   "source": [
    "from __future__ import print_function  # Compatability with Python 3\n",
    "print('Print function ready to serve.')"
   ]
  },
  {
   "cell_type": "markdown",
   "metadata": {},
   "source": [
    "Then, let's import Pandas."
   ]
  },
  {
   "cell_type": "code",
   "execution_count": null,
   "metadata": {
    "collapsed": false
   },
   "outputs": [],
   "source": [
    "import pandas as pd"
   ]
  },
  {
   "cell_type": "markdown",
   "metadata": {},
   "source": [
    "Read Iris dataset:"
   ]
  },
  {
   "cell_type": "code",
   "execution_count": null,
   "metadata": {
    "collapsed": true
   },
   "outputs": [],
   "source": [
    "# Read the iris dataset from a CSV file\n",
    "df = pd.read_csv('iris.csv')"
   ]
  },
  {
   "cell_type": "markdown",
   "metadata": {},
   "source": [
    "<hr style=\"border-color:royalblue;background-color:royalblue;height:1px;\">\n",
    "\n",
    "## <span style=\"color:RoyalBlue\">Exercise 5.1</span>\n",
    "\n",
    "***In the previous lesson...***\n",
    "\n",
    "> *In the previous lesson, we discovered that **Casey's Flower Shop** is the first local business we need to visit in Park Royal.*\n",
    "\n",
    "\n",
    "When arrive, we find out that the owner, Casey, urgently needs our help!\n",
    "> * They just received a new shipment of **Iris flowers**, but they've never stocked these flowers before.\n",
    "* Casey asks us to share what we know about these new flowers.\n",
    "* Luckily, we have the Iris dataset to learn more about them ourselves!\n",
    "\n",
    "In Lesson 4: NumPy, we also introduced the idea of using a **toy problem** to reduce the size of a problem and break down the concepts.\n",
    "\n",
    "While 150 observations is not exactly \"big data,\" it's still too large to fit on our screen at once. So let's use another toy problem to practice the concepts in this lesson.\n",
    "\n",
    "<br>\n",
    "**First, create a new DataFrame called <code style=\"color:steelblue\">toy_df</code>. It should contain the first 5 rows plus the last 5 rows from our original Iris dataset.**\n",
    "* **Tip:** You already have a <code style=\"color:steelblue\">.head()</code>, but what about a <code style=\"color:steelblue\">.tail()</code>?\n",
    "* **Tip:** <code style=\"color:steelblue\">pd.concat()</code> is your [friend](http://pandas.pydata.org/pandas-docs/stable/generated/pandas.concat.html)."
   ]
  },
  {
   "cell_type": "code",
   "execution_count": null,
   "metadata": {
    "collapsed": false
   },
   "outputs": [],
   "source": [
    "# Create toy_df\n",
    "\n"
   ]
  },
  {
   "cell_type": "markdown",
   "metadata": {},
   "source": [
    "**Next, display <code style=\"color:steelblue\">toy_df</code>.** \n",
    "* After all, it will only be 10 rows.\n",
    "* In <code style=\"color:steelblue\">toy_df</code>, you should have data from 2 different species of flower. Which are they?"
   ]
  },
  {
   "cell_type": "code",
   "execution_count": null,
   "metadata": {
    "collapsed": false
   },
   "outputs": [],
   "source": [
    "# Display toy_df\n",
    "\n"
   ]
  },
  {
   "cell_type": "markdown",
   "metadata": {},
   "source": [
    "You should have 'setosa' and 'virginica' flowers.\n",
    "\n",
    "**Next, display a summary table for <code style=\"color:steelblue\">toy_df</code>.**\n",
    "* It should have the mean, standard deviation, and quartiles for each of the columns"
   ]
  },
  {
   "cell_type": "code",
   "execution_count": null,
   "metadata": {
    "collapsed": false
   },
   "outputs": [],
   "source": [
    "# Describe toy_df\n",
    "\n"
   ]
  },
  {
   "cell_type": "markdown",
   "metadata": {},
   "source": [
    "Since <code style=\"color:steelblue\">toy_df</code> is only 10 rows, you can manually check the **mins** and **maxes**. Are they correct?"
   ]
  },
  {
   "cell_type": "markdown",
   "metadata": {},
   "source": [
    "<hr style=\"border-color:royalblue;background-color:royalblue;height:1px;\">\n",
    "\n",
    "## <span style=\"color:RoyalBlue\">Exercise 5.2</span>\n",
    "\n",
    "Elementwise operations are very useful in machine learning, especially for feature engineering.\n",
    "\n",
    "<br>\n",
    "\n",
    "> *<span style=\"color:tomato; font-weight:bold\">Feature engineering</span> is the process of creating new features (model input variables) from existing ones.*\n",
    "\n",
    "<br>\n",
    "\n",
    "We'll cover this topic in much more detail in Projects 2, 3, and 4, but let's first use our <code style=\"color:steelblue\">toy_df</code> to illustrate the concept.\n",
    "\n",
    "In the Iris dataset, we have petal width and length, but what if we wanted to know petal area? Well, we can create a new <code style=\"color:steelblue\">petal_area</code> feature (yes, the petals are not perfect rectangles, but that's fine).\n",
    "\n",
    "<br>\n",
    "**First, display the two columns of <code style=\"color:steelblue\">petal_width</code> and <code style=\"color:steelblue\">petal_length</code> in <code style=\"color:steelblue\">toy_df</code>.**\n",
    "* **Tip:** You can index a DataFrame using a list of column names too, like so:\n",
    "\n",
    "\n",
    "<pre style=\"color:steelblue\">df[['column_1', 'column_2']]</pre>"
   ]
  },
  {
   "cell_type": "code",
   "execution_count": null,
   "metadata": {
    "collapsed": false
   },
   "outputs": [],
   "source": [
    "# Display petal_width and petal_length\n",
    "\n"
   ]
  },
  {
   "cell_type": "markdown",
   "metadata": {},
   "source": [
    "**Next, create a new <code style=\"color:steelblue\">petal_area</code> feature in <code style=\"color:steelblue\">toy_df</code>.**\n",
    "* Multiply the <code style=\"color:steelblue\">petal_width</code> column by the <code style=\"color:steelblue\">petal_length</code> column.\n",
    "* Display <code style=\"color:steelblue\">toy_df</code> after creating the new feature.\n",
    "* Are the values for <code style=\"color:steelblue\">petal_area</code> correct? Manually spot check a few of them just to make sure."
   ]
  },
  {
   "cell_type": "code",
   "execution_count": null,
   "metadata": {
    "collapsed": false
   },
   "outputs": [],
   "source": [
    "# Create a new petal_area column\n",
    "\n",
    "\n",
    "# Display toy_df\n",
    "\n"
   ]
  },
  {
   "cell_type": "markdown",
   "metadata": {},
   "source": [
    "**Finally, what do we now know about Iris flowers?**\n",
    "\n",
    "By creating a <code style=\"color:steelblue\">petal_area</code> feature, it's now much easier to see that virginica flowers have significantly larger petals than setosa flowers do!\n",
    "\n",
    "Often, by creating new features, you can learn more about the data (and improve your machine learning models)."
   ]
  },
  {
   "cell_type": "markdown",
   "metadata": {},
   "source": [
    "<hr style=\"border-color:royalblue;background-color:royalblue;height:1px;\">\n",
    "\n",
    "## <span style=\"color:RoyalBlue\">Exercise 5.3</span>\n",
    "\n",
    "Again, we'll use the <code style=\"color:steelblue\">toy_df</code> to really drive home these concepts.\n",
    "\n",
    "Let's say we wanted to display observations where <code style=\"color:steelblue\">petal_area > 10</code> and <code style=\"color:steelblue\">sepal_width > 3</code>. How could we do so?\n",
    "\n",
    "<br>\n",
    "**First, display <code style=\"color:steelblue\">toy_df</code> again just to have it in front of you.**"
   ]
  },
  {
   "cell_type": "code",
   "execution_count": null,
   "metadata": {
    "collapsed": false
   },
   "outputs": [],
   "source": [
    "# Display toy_df\n",
    "\n"
   ]
  },
  {
   "cell_type": "markdown",
   "metadata": {},
   "source": [
    "**Take a look at the DataFrame and manually count the number that satisfy our conditions.**\n",
    "* How many observations have <code style=\"color:steelblue\">petal_area > 10</code>?\n",
    "* How many observations have <code style=\"color:steelblue\">sepal_width > 3</code>?\n",
    "* How many satisfy both conditions?\n",
    "\n",
    "Great. Now we'll see what's going on under the hood when we use our boolean masks.\n",
    "\n",
    "<br>\n",
    "**Create a boolean mask for <code style=\"color:steelblue\">petal_area > 10</code>.**\n",
    "* Name it <code style=\"color:steelblue\">petal_area_mask</code>.\n",
    "* Display the mask after you create it.\n",
    "* Does the result make sense?"
   ]
  },
  {
   "cell_type": "code",
   "execution_count": null,
   "metadata": {
    "collapsed": false
   },
   "outputs": [],
   "source": [
    "# Mask for petal_area > 10\n",
    "\n",
    "\n",
    "# Display petal_area_mask\n",
    "\n"
   ]
  },
  {
   "cell_type": "markdown",
   "metadata": {},
   "source": [
    "**Next, create a boolean mask for <code style=\"color:steelblue\">sepal_width > 3</code>.**\n",
    "* Name it <code style=\"color:steelblue\">sepal_width_mask</code>.\n",
    "* Display the mask after you create it.\n",
    "* Does the result make sense?"
   ]
  },
  {
   "cell_type": "code",
   "execution_count": null,
   "metadata": {
    "collapsed": false
   },
   "outputs": [],
   "source": [
    "# Mask for sepal_width > 3\n",
    "\n",
    "\n",
    "# Display sepal_width_mask\n",
    "\n"
   ]
  },
  {
   "cell_type": "markdown",
   "metadata": {},
   "source": [
    "**Next, display the two masks combined using the <code style=\"color:steelblue\">&</code> operator.**\n",
    "* Note how their combination results in another boolean mask!"
   ]
  },
  {
   "cell_type": "code",
   "execution_count": null,
   "metadata": {
    "collapsed": false
   },
   "outputs": [],
   "source": [
    "# Display both masks, combined\n",
    "\n"
   ]
  },
  {
   "cell_type": "markdown",
   "metadata": {},
   "source": [
    "**Finally, select the observations from <code style=\"color:steelblue\">toy_df</code> where both conditions are met.**"
   ]
  },
  {
   "cell_type": "code",
   "execution_count": null,
   "metadata": {
    "collapsed": false
   },
   "outputs": [],
   "source": [
    "# Index with both masks\n",
    "\n"
   ]
  },
  {
   "cell_type": "markdown",
   "metadata": {},
   "source": [
    "<hr style=\"border-color:royalblue;background-color:royalblue;height:1px;\">\n",
    "\n",
    "## <span style=\"color:RoyalBlue\">Exercise 5.4</span>\n",
    "\n",
    "Now, armed with the power of **groupby**, we're almost ready to return to Casey and share what we've learned about Iris flowers! But before we do, let's just bring back our <code style=\"color:steelblue\">toy_df</code> for one last hoorah, just to make sure we know what's going on under the hood.\n",
    "\n",
    "<br>\n",
    "Let's calculate the median <code style=\"color:steelblue\">petal_area</code> for each species. \n",
    "* Since <code style=\"color:steelblue\">toy_df</code> is small, we can do this manually as well and check to make sure the values are correct.\n",
    "\n",
    "<br>\n",
    "**First, let's manually calculate the median <code style=\"color:steelblue\">petal_area</code> for the virginica flowers in our <code style=\"steelblue\">toy_df</code>.**\n",
    "* Display all observations of the virginica species.\n",
    "* Sort them by <code style=\"color:steelblue\">petal_area</code> in ascending order.\n",
    "* **Tip:** Check out the <code style=\"color:steelblue\">.sort_values()</code> function ([documentation](http://pandas.pydata.org/pandas-docs/stable/generated/pandas.DataFrame.sort_values.html))."
   ]
  },
  {
   "cell_type": "code",
   "execution_count": null,
   "metadata": {
    "collapsed": false
   },
   "outputs": [],
   "source": [
    "# Display all 'virginica' species, sorted by petal_area\n",
    "\n"
   ]
  },
  {
   "cell_type": "markdown",
   "metadata": {},
   "source": [
    "Based on the output above, what's median <code style=\"color:steelblue\">petal_area</code> for the virginica species?\n",
    "\n",
    "<br>\n",
    "**Next, let's manually calculate the median <code style=\"color:steelblue\">petal_area</code> for the setosa flowers in our <code style=\"steelblue\">toy_df</code>.**\n",
    "* Display all observations of the setosa species.\n",
    "* Sort them by <code style=\"color:steelblue\">petal_area</code> in ascending order."
   ]
  },
  {
   "cell_type": "code",
   "execution_count": null,
   "metadata": {
    "collapsed": false
   },
   "outputs": [],
   "source": [
    "# Display all 'setosa' species\n",
    "\n"
   ]
  },
  {
   "cell_type": "markdown",
   "metadata": {},
   "source": [
    "Based on the output above, what's median <code style=\"color:steelblue\">petal_area</code> for the setosa species?\n",
    "\n",
    "<br>\n",
    "**Finally let's calculate the median values using a <code style=\"color:steelblue\">.groupby()</code>.**\n",
    "* Do you get the same result?"
   ]
  },
  {
   "cell_type": "code",
   "execution_count": null,
   "metadata": {
    "collapsed": false
   },
   "outputs": [],
   "source": [
    "# Median petal_area in toy_df\n",
    "\n"
   ]
  },
  {
   "cell_type": "markdown",
   "metadata": {},
   "source": [
    "** *Congratulations... You've completed the training mission!* **\n",
    "\n",
    "> *In this lesson, you explored the Iris dataset using Pandas.*\n",
    "\n",
    "> *After arming yourself with Pandas, you've successfully completed the rest of the training mission!*\n",
    "\n",
    "<br>\n",
    "<hr style=\"border-color:royalblue;background-color:royalblue;height:1px;\">\n",
    "\n",
    "<div style=\"text-align:center; margin: 40px 0 40px 0;\">\n",
    "[**Back to Contents**](#toc)\n",
    "</div>"
   ]
  }
 ],
 "metadata": {
  "anaconda-cloud": {},
  "kernelspec": {
   "display_name": "Python 2",
   "language": "python",
   "name": "python2"
  },
  "language_info": {
   "codemirror_mode": {
    "name": "ipython",
    "version": 2
   },
   "file_extension": ".py",
   "mimetype": "text/x-python",
   "name": "python",
   "nbconvert_exporter": "python",
   "pygments_lexer": "ipython2",
   "version": "2.7.11"
  }
 },
 "nbformat": 4,
 "nbformat_minor": 0
}
